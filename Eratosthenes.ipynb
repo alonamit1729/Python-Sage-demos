{
 "cells": [
  {
   "cell_type": "code",
   "execution_count": 2,
   "metadata": {},
   "outputs": [
    {
     "data": {
      "text/plain": [
       "14448"
      ]
     },
     "execution_count": 2,
     "metadata": {},
     "output_type": "execute_result"
    }
   ],
   "source": [
    "def erato(n):\n",
    "    nums = [k for k in range(2,n+1)]                                # Evolving list of primes\n",
    "    prime=2                                                         # Current prime we are sieving\n",
    "    while prime*prime <= n:                                         # Stop once prime^2 exceeds n\n",
    "        nums = [k for k in nums if not (k>prime and k%prime==0)]    # Sieve!\n",
    "        prime = nums[nums.index(prime)+1]                           # Move on to next prime\n",
    "    return nums       \n",
    "\n",
    "pr = erato(157176)\n",
    "len(pr)"
   ]
  },
  {
   "cell_type": "code",
   "execution_count": null,
   "metadata": {},
   "outputs": [],
   "source": []
  }
 ],
 "metadata": {
  "kernelspec": {
   "display_name": "Python 3",
   "language": "python",
   "name": "python3"
  },
  "language_info": {
   "codemirror_mode": {
    "name": "ipython",
    "version": 3
   },
   "file_extension": ".py",
   "mimetype": "text/x-python",
   "name": "python",
   "nbconvert_exporter": "python",
   "pygments_lexer": "ipython3",
   "version": "3.6.5"
  }
 },
 "nbformat": 4,
 "nbformat_minor": 2
}
