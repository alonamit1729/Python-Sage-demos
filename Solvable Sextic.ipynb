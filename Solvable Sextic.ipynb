{
 "cells": [
  {
   "cell_type": "markdown",
   "id": "045eafef-e445-45e9-b7c9-0b16efbcc2b4",
   "metadata": {},
   "source": [
    "Construct the ring of polynmials with integer coefficients $R = \\mathbb{Z}[x]$, and define the polynomial $p(x) = x^6+x^5+x^4-x^3-x^2+x-1$."
   ]
  },
  {
   "cell_type": "code",
   "execution_count": 8,
   "id": "080bf604-aee1-42ed-a03f-0fbbc8bd1083",
   "metadata": {},
   "outputs": [],
   "source": [
    "R.<x> = ZZ[\"x\"]\n",
    "p = x^6+x^5+x^4-x^3-x^2+x-1"
   ]
  },
  {
   "cell_type": "markdown",
   "id": "ff34acb0-9dda-4805-aecd-3c939c152425",
   "metadata": {},
   "source": [
    "Construct the splitting field $L$ of $p(x)$ over $\\mathbb{Q}$. The field has degree $24$, and Sage finds a primitive element for it we call $a$. The minimal polynomial of $a$ has degree $24$, and we won't have direct use for it. "
   ]
  },
  {
   "cell_type": "code",
   "execution_count": 9,
   "id": "b8980412-c924-463a-85cb-84a5523d36ee",
   "metadata": {},
   "outputs": [
    {
     "data": {
      "text/plain": [
       "Number Field in a with defining polynomial x^24 + 12*x^22 + 70*x^20 + 339*x^18 + 1139*x^16 + 3843*x^14 + 5572*x^12 + 12399*x^10 + 47696*x^8 + 113322*x^6 + 113893*x^4 + 55521*x^2 + 39601"
      ]
     },
     "execution_count": 9,
     "metadata": {},
     "output_type": "execute_result"
    }
   ],
   "source": [
    "L.<a> = p.splitting_field()\n",
    "L"
   ]
  },
  {
   "cell_type": "markdown",
   "id": "6c868c5d-4cb9-497c-a44f-0fa5b5db230a",
   "metadata": {},
   "source": [
    "Compute the Galois group of $L/\\mathbb{Q}$. Since the degree of $L$ is $24$ the group has order $24$ so it must be solvable, but it's good to verify."
   ]
  },
  {
   "cell_type": "code",
   "execution_count": 14,
   "id": "e7b9c1f0-6897-47d6-a5f2-02564752c482",
   "metadata": {},
   "outputs": [
    {
     "data": {
      "text/plain": [
       "True"
      ]
     },
     "execution_count": 14,
     "metadata": {},
     "output_type": "execute_result"
    }
   ],
   "source": [
    "G = L.galois_group()\n",
    "G.is_solvable()"
   ]
  },
  {
   "cell_type": "markdown",
   "id": "a7c68a4d-65a6-4357-885e-e14c6dbeb6eb",
   "metadata": {},
   "source": [
    "Find the normal subgroups. There are only $2$ of them, and they have orders $4$ and $12$. "
   ]
  },
  {
   "cell_type": "code",
   "execution_count": 21,
   "id": "ac521b86-d57e-4a76-a420-09aa30fd267c",
   "metadata": {},
   "outputs": [
    {
     "data": {
      "text/plain": [
       "[4, 12]"
      ]
     },
     "execution_count": 21,
     "metadata": {},
     "output_type": "execute_result"
    }
   ],
   "source": [
    "normals = [h for h in G.subgroups() if h.is_normal() and not (h.order()==1 or h.order()==24) ]\n",
    "[h.order() for h in normals]"
   ]
  },
  {
   "cell_type": "markdown",
   "id": "14c51d66-e6a2-4bd3-8b2c-67b40fca9184",
   "metadata": {},
   "source": [
    "For each normal subgroup, find its fixed field. We expect those fields to have degree $6$ for the group of order $4$, and degree $2$ for the group of order $12$. Sage helpfully finds defining polynomials for those fixed fields. "
   ]
  },
  {
   "cell_type": "code",
   "execution_count": 24,
   "id": "e708045c-5702-4b60-9a49-35b73b818e1d",
   "metadata": {},
   "outputs": [
    {
     "data": {
      "text/plain": [
       "[x^6 + 22*x^4 + 121*x^2 + 199, x^2 - x + 50]"
      ]
     },
     "execution_count": 24,
     "metadata": {},
     "output_type": "execute_result"
    }
   ],
   "source": [
    "fixed_fields=[h.fixed_field()[0] for h in normals]\n",
    "[f.defining_polynomial() for f in fixed_fields]"
   ]
  },
  {
   "cell_type": "code",
   "execution_count": null,
   "id": "cd836b7f-dd7a-488e-93c9-2d146670c625",
   "metadata": {},
   "outputs": [],
   "source": []
  }
 ],
 "metadata": {
  "kernelspec": {
   "display_name": "SageMath 10.4",
   "language": "sage",
   "name": "sagemath-10.4"
  },
  "language_info": {
   "codemirror_mode": {
    "name": "ipython",
    "version": 3
   },
   "file_extension": ".py",
   "mimetype": "text/x-python",
   "name": "python",
   "nbconvert_exporter": "python",
   "pygments_lexer": "ipython3",
   "version": "3.12.4"
  }
 },
 "nbformat": 4,
 "nbformat_minor": 5
}
